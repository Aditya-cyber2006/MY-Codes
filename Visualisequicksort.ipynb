{
 "cells": [
  {
   "cell_type": "code",
   "execution_count": 1,
   "id": "87abf9d3",
   "metadata": {},
   "outputs": [
    {
     "name": "stdout",
     "output_type": "stream",
     "text": [
      "Requirement already satisfied: matplotlib in c:\\users\\aditya mungase\\anaconda3\\lib\\site-packages (3.10.0)\n",
      "Requirement already satisfied: contourpy>=1.0.1 in c:\\users\\aditya mungase\\anaconda3\\lib\\site-packages (from matplotlib) (1.3.1)\n",
      "Requirement already satisfied: cycler>=0.10 in c:\\users\\aditya mungase\\anaconda3\\lib\\site-packages (from matplotlib) (0.11.0)\n",
      "Requirement already satisfied: fonttools>=4.22.0 in c:\\users\\aditya mungase\\anaconda3\\lib\\site-packages (from matplotlib) (4.55.3)\n",
      "Requirement already satisfied: kiwisolver>=1.3.1 in c:\\users\\aditya mungase\\anaconda3\\lib\\site-packages (from matplotlib) (1.4.8)\n",
      "Requirement already satisfied: numpy>=1.23 in c:\\users\\aditya mungase\\appdata\\roaming\\python\\python313\\site-packages (from matplotlib) (2.3.1)\n",
      "Requirement already satisfied: packaging>=20.0 in c:\\users\\aditya mungase\\anaconda3\\lib\\site-packages (from matplotlib) (24.2)\n",
      "Requirement already satisfied: pillow>=8 in c:\\users\\aditya mungase\\appdata\\roaming\\python\\python313\\site-packages (from matplotlib) (11.3.0)\n",
      "Requirement already satisfied: pyparsing>=2.3.1 in c:\\users\\aditya mungase\\anaconda3\\lib\\site-packages (from matplotlib) (3.2.0)\n",
      "Requirement already satisfied: python-dateutil>=2.7 in c:\\users\\aditya mungase\\appdata\\roaming\\python\\python313\\site-packages (from matplotlib) (2.9.0.post0)\n",
      "Requirement already satisfied: six>=1.5 in c:\\users\\aditya mungase\\appdata\\roaming\\python\\python313\\site-packages (from python-dateutil>=2.7->matplotlib) (1.17.0)\n",
      "Note: you may need to restart the kernel to use updated packages.\n"
     ]
    },
    {
     "name": "stderr",
     "output_type": "stream",
     "text": [
      "\n",
      "[notice] A new release of pip is available: 25.1.1 -> 25.2\n",
      "[notice] To update, run: python.exe -m pip install --upgrade pip\n"
     ]
    }
   ],
   "source": [
    "pip install matplotlib"
   ]
  },
  {
   "cell_type": "code",
   "execution_count": 2,
   "id": "4b903420",
   "metadata": {},
   "outputs": [
    {
     "data": {
      "image/png": "[encoded data removed]",
      "text/plain": [
       "<Figure size 640x480 with 1 Axes>"
      ]
     },
     "metadata": {},
     "output_type": "display_data"
    },
    {
     "name": "stdout",
     "output_type": "stream",
     "text": [
      "1 2 3 4 5 6 7 "
     ]
    }
   ],
   "source": [
    "import matplotlib.pyplot as plt\n",
    "import time\n",
    "from IPython.display import clear_output\n",
    "\n",
    "def visualise(a,tittle=\" \",index1=None,index2=None):\n",
    "    \n",
    "    colors=[\"blue\"]*len(a)\n",
    "\n",
    "    if index1 is not None and index2 is not None and 0<=index1 < len(a):\n",
    "        colors[index1] = \"orange\"\n",
    "        colors[index2] = \"orange\"\n",
    "    elif index1 is not None and 0<= index1<len(a):\n",
    "        colors[index1] = \"green\"\n",
    "     \n",
    "    clear_output(wait=True)\n",
    "    plt.title(tittle)\n",
    "    plt.bar(range(len(a)),a,color=colors)\n",
    "    plt.xlabel('Index')\n",
    "    \n",
    "    plt.ylabel('values')\n",
    "    plt.show()\n",
    "    # plt.pause(0.5)\n",
    "    time.sleep(0.8)\n",
    "\n",
    "def partition(a, s, e):\n",
    "    i, j = s, e\n",
    "    \n",
    "    while i < j:\n",
    "        while i <= e and a[i] <= a[s]:\n",
    "            i += 1\n",
    "        while j >= s and a[j] > a[s]:\n",
    "            j -= 1\n",
    "        if i < j:\n",
    "            visualise(a,f\"swaping {a[i]} and {a[j]}\",i,j)\n",
    "            a[i], a[j] = a[j], a[i]\n",
    "            visualise(a,f\"After swaping {a[i]} and {a[j]}\",i,j)\n",
    "\n",
    "    visualise(a,f\"swaping {a[s]} and {a[j]}\",s,j)\n",
    "    a[s], a[j] = a[j], a[s]\n",
    "    visualise(a,f\"After swaping {a[s]} and {a[j]}\",s,j)\n",
    "    return j\n",
    "\n",
    "\n",
    "def quick_sort(a, s, e):\n",
    "    if s >= e:\n",
    "        return\n",
    "    p = partition(a, s, e)\n",
    "    \n",
    "    visualise(a,\"Values after partion\",p)\n",
    "    quick_sort(a, s, p - 1)\n",
    "    quick_sort(a, p + 1, e)\n",
    "\n",
    "\n",
    "a = [7,6,5,4,3,2,1]\n",
    "quick_sort(a, 0, len(a)-1)\n",
    "for x in a: \n",
    "    print(x, end=\" \")\n",
    "\n"
   ]
  }
 ],
 "metadata": {
  "kernelspec": {
   "display_name": "base",
   "language": "python",
   "name": "python3"
  },
  "language_info": {
   "codemirror_mode": {
    "name": "ipython",
    "version": 3
   },
   "file_extension": ".py",
   "mimetype": "text/x-python",
   "name": "python",
   "nbconvert_exporter": "python",
   "pygments_lexer": "ipython3",
   "version": "3.13.5"
  }
 },
 "nbformat": 4,
 "nbformat_minor": 5
}
